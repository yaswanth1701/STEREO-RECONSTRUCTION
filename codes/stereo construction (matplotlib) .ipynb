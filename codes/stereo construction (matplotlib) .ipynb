{
 "cells": [
  {
   "cell_type": "code",
   "execution_count": null,
   "id": "c90231e0",
   "metadata": {},
   "outputs": [],
   "source": [
    "import numpy as np\n",
    "import cv2 as cv\n",
    "import matplotlib.pyplot as plt\n",
    "fig = plt.figure()\n",
    "ax = fig.add_subplot(projection='3d')\n",
    "f=3997.684\n",
    "imgL = cv.imread('im0.png',0)\n",
    "imgR = cv.imread('im1.png',0)\n",
    "imgC=  cv.imread('im0.png')\n",
    "stereo = cv.StereoBM_create(numDisparities=256, blockSize=31)\n",
    "disparity = stereo.compute(imgL,imgR)\n",
    "cal=np.float32([[f,0,1244.772,0],[0,f,3979.911,0],[0,0,f,0],[0,0,0,1]])\n",
    "points=cv.reprojectImageTo3D(disparity,cal)\n",
    "X=points[:,:,0]\n",
    "Y=points[:,:,1]\n",
    "Z=points[:,:,2]\n",
    "ax.scatter(X,Y,Z)\n",
    "plt.show "
   ]
  }
 ],
 "metadata": {
  "kernelspec": {
   "display_name": "Python 3",
   "language": "python",
   "name": "python3"
  },
  "language_info": {
   "codemirror_mode": {
    "name": "ipython",
    "version": 3
   },
   "file_extension": ".py",
   "mimetype": "text/x-python",
   "name": "python",
   "nbconvert_exporter": "python",
   "pygments_lexer": "ipython3",
   "version": "3.8.8"
  }
 },
 "nbformat": 4,
 "nbformat_minor": 5
}
