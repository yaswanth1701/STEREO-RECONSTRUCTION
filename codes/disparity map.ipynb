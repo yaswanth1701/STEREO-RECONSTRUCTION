{
 "cells": [
  {
   "cell_type": "code",
   "execution_count": null,
   "id": "44afdf80",
   "metadata": {},
   "outputs": [],
   "source": [
    "import numpy as np\n",
    "import cv2 as cv\n",
    "from matplotlib import pyplot as plt\n",
    "imgL = cv.imread('im0.png',0)\n",
    "imgR = cv.imread('im1.png',0)\n",
    "stereo = cv.StereoSGBM_create(minDisparity=0,numDisparities=224, blockSize=29,uniquenessRatio=5,speckleWindowSize=5,\n",
    "speckleRange=5)\n",
    "disparity = stereo.compute(imgL,imgR)\n",
    "plt.imshow(disparity,cmap='jet')\n",
    "plt.show()"
   ]
  }
 ],
 "metadata": {
  "kernelspec": {
   "display_name": "Python 3",
   "language": "python",
   "name": "python3"
  },
  "language_info": {
   "codemirror_mode": {
    "name": "ipython",
    "version": 3
   },
   "file_extension": ".py",
   "mimetype": "text/x-python",
   "name": "python",
   "nbconvert_exporter": "python",
   "pygments_lexer": "ipython3",
   "version": "3.8.8"
  }
 },
 "nbformat": 4,
 "nbformat_minor": 5
}
