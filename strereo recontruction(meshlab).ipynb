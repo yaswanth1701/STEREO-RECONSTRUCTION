{
 "cells": [
  {
   "cell_type": "code",
   "execution_count": null,
   "id": "14df2889",
   "metadata": {},
   "outputs": [],
   "source": [
    "import numpy as np\n",
    "import cv2 as cv\n",
    "# camera paramters\n",
    "f=3997.684\n",
    "doffs=124.343\n",
    "b=193.001\n",
    "w=2964\n",
    "h=2000\n",
    "#loading right and left image using opencv function\n",
    "imgL = cv.imread('C:/Users/user/OneDrive/Pictures/Camera Roll/im0 2.png',0)\n",
    "imgR = cv.imread('C:/Users/user/OneDrive/Pictures/Camera Roll/im1 2.png',0)\n",
    "imgC=  cv.imread('C:/Users/user/OneDrive/Pictures/Camera Roll/im0 2.png')\n",
    "#obtaining disparity \n",
    "stereo = cv.StereoSGBM_create(minDisparity=0,numDisparities=256, blockSize=17,P1 =2500,P2 = 50,uniquenessRatio=4,speckleWindowSize=4,\n",
    "speckleRange=4,disp12MaxDiff = 20)\n",
    "disparity = stereo.compute(imgL,imgR)\n",
    "#appling gaussain blur to make image smooth \n",
    "#disparity = cv.GaussianBlur(disparity,(10,10),0.1)\n",
    "#assigning camera parameter to calibration martix usimg numpy library\n",
    "Q=np.array([[f, 0, 0, 0], [0, f, 0,0],[0, 0, f,0],[0, 0,0,1]])\n",
    "#obtaining 3D coordinates of points \n",
    "points=cv.reprojectImageTo3D(disparity,Q)\n",
    "#obtaining colour of points \n",
    "colour=cv.cvtColor(imgC,cv.COLOR_BGR2RGB)\n",
    "#thresholding points with very lareg depth or zero disparity\n",
    "points=points[disparity>0]\n",
    "colour= colour[disparity>0]\n",
    "#creating point cloud using .ply file \n",
    "#defining elements and property of elements inside ply header \n",
    "ply_header = '''ply\n",
    "        format ascii 1.0\n",
    "        element vertex %(vert_num)d \n",
    "        property float x\n",
    "        property float y\n",
    "        property float z\n",
    "        property uint8 red\n",
    "        property uint8 green\n",
    "        property uint8 blue\n",
    "        end_header\n",
    "        '''\n",
    "# defining pointcloud function and writing element and its properties \n",
    "def pointcloud(vertices, color, filename):\n",
    "    #using np.hstack function arranging properties in (x,y,z,red,green,blue) format of every vertic\n",
    "    color= color.rshape(-1,3)\n",
    "    vertices = np.hstack([vertices.reshape(-1,3),color])\n",
    "    #opening and writing in .ply file \n",
    "    with open(filename, 'w') as f:\n",
    "        f.write(ply_header %dict(vert_num=len(vertices)))\n",
    "        np.savetxt(f,vertices,'%f %f %f %d %d %d')\n",
    "#specifing file path and calling pointcloud function \n",
    "file = 'C:/Users/user/OneDrive/Desktop/New folder/stereocontruction1.ply'\n",
    "pointcloud(points, colour,file)"
   ]
  }
 ],
 "metadata": {
  "kernelspec": {
   "display_name": "Python 3",
   "language": "python",
   "name": "python3"
  },
  "language_info": {
   "codemirror_mode": {
    "name": "ipython",
    "version": 3
   },
   "file_extension": ".py",
   "mimetype": "text/x-python",
   "name": "python",
   "nbconvert_exporter": "python",
   "pygments_lexer": "ipython3",
   "version": "3.8.8"
  }
 },
 "nbformat": 4,
 "nbformat_minor": 5
}
